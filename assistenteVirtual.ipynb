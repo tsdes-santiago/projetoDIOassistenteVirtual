{
 "cells": [
  {
   "cell_type": "markdown",
   "id": "8310a147-bdd3-4260-9f7c-a7217d347eb7",
   "metadata": {},
   "source": [
    "# Criando um assistente virtual"
   ]
  },
  {
   "cell_type": "code",
   "execution_count": 1,
   "id": "934198e6-10b8-4bea-93eb-3fcaa0029188",
   "metadata": {
    "execution": {
     "iopub.execute_input": "2024-03-17T10:52:58.904250Z",
     "iopub.status.busy": "2024-03-17T10:52:58.904073Z",
     "iopub.status.idle": "2024-03-17T10:52:59.098261Z",
     "shell.execute_reply": "2024-03-17T10:52:59.097841Z",
     "shell.execute_reply.started": "2024-03-17T10:52:58.904237Z"
    }
   },
   "outputs": [
    {
     "name": "stdout",
     "output_type": "stream",
     "text": [
      "pygame 2.5.2 (SDL 2.28.2, Python 3.11.8)\n",
      "Hello from the pygame community. https://www.pygame.org/contribute.html\n"
     ]
    }
   ],
   "source": [
    "import os\n",
    "import sounddevice # Lidar com mensagens do alsa\n",
    "from gtts import gTTS\n",
    "from gtts.tokenizer.pre_processors import abbreviations, end_of_line\n",
    "from pygame import mixer\n",
    "import time\n",
    "import speech_recognition as sr\n",
    "from datetime import datetime\n",
    "import pyjokes\n",
    "import wikipedia\n",
    "import pyaudio\n",
    "import webbrowser"
   ]
  },
  {
   "cell_type": "markdown",
   "id": "455abb83-9373-494a-b9a7-295670bfd228",
   "metadata": {},
   "source": [
    "## Text to speech:\n",
    "Seguindo o tutorial em:\n",
    "https://levelup.gitconnected.com/make-your-python-program-speak-310766534fbf"
   ]
  },
  {
   "cell_type": "code",
   "execution_count": 2,
   "id": "4c7c4dd9-ad76-4212-9797-0f831781ed4b",
   "metadata": {
    "execution": {
     "iopub.execute_input": "2024-03-17T10:53:06.377390Z",
     "iopub.status.busy": "2024-03-17T10:53:06.376960Z",
     "iopub.status.idle": "2024-03-17T10:53:09.117974Z",
     "shell.execute_reply": "2024-03-17T10:53:09.117616Z",
     "shell.execute_reply.started": "2024-03-17T10:53:06.377375Z"
    }
   },
   "outputs": [],
   "source": [
    "# Create the text\n",
    "text_to_say = \"How are you doing?.\"\n",
    "\n",
    "tts = gTTS(text_to_say, lang = \"en\", slow=False, pre_processor_funcs = [abbreviations, end_of_line]) \n",
    "# Save the audio in a mp3 file\n",
    "tts.save('ingles.mp3')\n",
    "# Play the audio\n",
    "mixer.init()\n",
    "mixer.music.load(\"ingles.mp3\")\n",
    "mixer.music.play()\n",
    "# Wait for the audio to be played\n",
    "time.sleep(2)"
   ]
  },
  {
   "cell_type": "code",
   "execution_count": 3,
   "id": "88a3b360-22d6-442d-b2c0-d25695f0495f",
   "metadata": {
    "execution": {
     "iopub.execute_input": "2024-03-17T10:53:12.548234Z",
     "iopub.status.busy": "2024-03-17T10:53:12.547872Z",
     "iopub.status.idle": "2024-03-17T10:53:15.453609Z",
     "shell.execute_reply": "2024-03-17T10:53:15.453217Z",
     "shell.execute_reply.started": "2024-03-17T10:53:12.548216Z"
    }
   },
   "outputs": [],
   "source": [
    "french_text = \"Je vais au supermarché\"\n",
    "\n",
    "tts = gTTS(french_text, lang = \"fr\", slow=False, pre_processor_funcs = [abbreviations, end_of_line]) \n",
    "# Save the audio in a mp3 file\n",
    "tts.save('frances.mp3')\n",
    "# Play the audio\n",
    "mixer.init()\n",
    "mixer.music.load(\"frances.mp3\")\n",
    "mixer.music.play()\n",
    "# Wait for the audio to be played\n",
    "time.sleep(2)"
   ]
  },
  {
   "cell_type": "markdown",
   "id": "63047e5a-7580-4da4-85a6-7c894b003565",
   "metadata": {},
   "source": [
    "## Speech to text from:\n",
    "\n",
    "https://github.com/diegobrunoDIO/Speech-to-text-ML-DIO/blob/main/Speech-to-text.py\n",
    "\n",
    "https://medium.com/@happynehra/%EF%B8%8F-connecting-to-the-microphone-and-processing-speech-with-python-a23b7f463467"
   ]
  },
  {
   "cell_type": "code",
   "execution_count": 4,
   "id": "f1a651d9-cd51-40c4-b3c4-d33ed2eeccfc",
   "metadata": {
    "execution": {
     "iopub.execute_input": "2024-03-17T10:53:45.382073Z",
     "iopub.status.busy": "2024-03-17T10:53:45.381890Z",
     "iopub.status.idle": "2024-03-17T10:53:45.385111Z",
     "shell.execute_reply": "2024-03-17T10:53:45.384694Z",
     "shell.execute_reply.started": "2024-03-17T10:53:45.382059Z"
    }
   },
   "outputs": [],
   "source": [
    "#get mic audio\n",
    "def get_audio():\n",
    "    \n",
    "    recognizer = sr.Recognizer()\n",
    "\n",
    "    with sr.Microphone() as source:\n",
    "        \n",
    "        recognizer.adjust_for_ambient_noise(source, duration=1)\n",
    "        audio = recognizer.listen(source)\n",
    "    \n",
    "        try:\n",
    "            said = recognizer.recognize_google(audio)\n",
    "            print(said)\n",
    "        except sr.UnknownValueError:\n",
    "            speak(\"Sorry, I did not get that.\")\n",
    "        except sr.RequestError:\n",
    "            speak(\"Sorry, the service is not available\")\n",
    "            \n",
    "    return said.lower()"
   ]
  },
  {
   "cell_type": "code",
   "execution_count": 5,
   "id": "e1d43efe-c587-49e9-9657-63966307e27d",
   "metadata": {
    "execution": {
     "iopub.execute_input": "2024-03-17T10:53:45.981308Z",
     "iopub.status.busy": "2024-03-17T10:53:45.981057Z",
     "iopub.status.idle": "2024-03-17T10:53:45.985284Z",
     "shell.execute_reply": "2024-03-17T10:53:45.984743Z",
     "shell.execute_reply.started": "2024-03-17T10:53:45.981288Z"
    }
   },
   "outputs": [],
   "source": [
    "#speak converted audio to text\n",
    "\n",
    "def speak(text):\n",
    "    \n",
    "    tts = gTTS(text=text, lang='en')\n",
    "    filename = \"voice.mp3\"\n",
    "    try:\n",
    "        os.remove(filename)\n",
    "    except OSError:\n",
    "        pass\n",
    "    tts.save(filename)\n",
    "    mixer.init()\n",
    "    mixer.music.load(filename)\n",
    "    mixer.music.play()\n",
    "    # Wait for the audio to be played\n",
    "    time.sleep(2)"
   ]
  },
  {
   "cell_type": "code",
   "execution_count": 6,
   "id": "c1ea783d-14e2-4b48-95e4-9d589bc2193f",
   "metadata": {
    "execution": {
     "iopub.execute_input": "2024-03-17T10:53:53.993458Z",
     "iopub.status.busy": "2024-03-17T10:53:53.993068Z",
     "iopub.status.idle": "2024-03-17T10:53:53.996791Z",
     "shell.execute_reply": "2024-03-17T10:53:53.996457Z",
     "shell.execute_reply.started": "2024-03-17T10:53:53.993443Z"
    }
   },
   "outputs": [],
   "source": [
    "#function to respond to commands\n",
    "def respond(text):\n",
    "    print(\"Text from get audio \" + text)\n",
    "    if 'youtube' in text:\n",
    "        speak(\"What do you want to search for?\")\n",
    "        keyword = get_audio()\n",
    "        if keyword!= '':\n",
    "            url = f\"https://www.youtube.com/results?search_query={keyword}\"\n",
    "            webbrowser.get().open(url)\n",
    "            speak(f\"Here is what I have found for {keyword} on youtube\")\n",
    "            print(f\"Here is what I have found for {keyword} on youtube\")\n",
    "            \n",
    "    elif 'search' in text:\n",
    "        speak(\"What do you want to search for?\")\n",
    "        query = get_audio()\n",
    "        if query !='':\n",
    "            result = wikipedia.summary(query, sentences=3)\n",
    "            speak(\"According to wikipedia\")\n",
    "            print(result)\n",
    "            speak(result)\n",
    "    elif 'joke' in text:\n",
    "        joke = pyjokes.get_joke() \n",
    "        print(joke)\n",
    "        speak(joke)\n",
    "    elif 'what time' in text:\n",
    "        strTime = datetime.today().strftime(\"%H:%M %p\")\n",
    "        print(strTime)\n",
    "        speak(strTime)\n",
    "    elif 'exit' in text:\n",
    "        speak(\"Goodbye, till next time\")\n",
    "        exit()"
   ]
  },
  {
   "cell_type": "code",
   "execution_count": 8,
   "id": "cb55a515-0af5-4110-82c4-6d6ca46856a7",
   "metadata": {
    "execution": {
     "iopub.execute_input": "2024-03-17T11:00:40.614834Z",
     "iopub.status.busy": "2024-03-17T11:00:40.614643Z",
     "iopub.status.idle": "2024-03-17T11:01:56.853388Z",
     "shell.execute_reply": "2024-03-17T11:01:56.852824Z",
     "shell.execute_reply.started": "2024-03-17T11:00:40.614821Z"
    }
   },
   "outputs": [
    {
     "name": "stdout",
     "output_type": "stream",
     "text": [
      "I am listening...\n",
      "what time\n",
      "Text from get audio what time\n",
      "08:00 AM\n",
      "I am listening...\n",
      "YouTube\n",
      "Text from get audio youtube\n",
      "Python programming\n",
      "Here is what I have found for python programming on youtube\n",
      "I am listening...\n",
      "joke\n",
      "Text from get audio joke\n",
      "Why do sin and tan work? Just cos.\n",
      "I am listening...\n",
      "search\n",
      "Text from get audio search\n",
      "Will Smith\n"
     ]
    },
    {
     "ename": "PageError",
     "evalue": "Page id \"will with\" does not match any pages. Try another id!",
     "output_type": "error",
     "traceback": [
      "\u001b[0;31m---------------------------------------------------------------------------\u001b[0m",
      "\u001b[0;31mPageError\u001b[0m                                 Traceback (most recent call last)",
      "Cell \u001b[0;32mIn[8], line 7\u001b[0m\n\u001b[1;32m      5\u001b[0m \u001b[38;5;28mprint\u001b[39m(\u001b[38;5;124m\"\u001b[39m\u001b[38;5;124mI am listening...\u001b[39m\u001b[38;5;124m\"\u001b[39m)\n\u001b[1;32m      6\u001b[0m text \u001b[38;5;241m=\u001b[39m get_audio()\n\u001b[0;32m----> 7\u001b[0m \u001b[43mrespond\u001b[49m\u001b[43m(\u001b[49m\u001b[43mtext\u001b[49m\u001b[43m)\u001b[49m\n",
      "Cell \u001b[0;32mIn[6], line 17\u001b[0m, in \u001b[0;36mrespond\u001b[0;34m(text)\u001b[0m\n\u001b[1;32m     15\u001b[0m query \u001b[38;5;241m=\u001b[39m get_audio()\n\u001b[1;32m     16\u001b[0m \u001b[38;5;28;01mif\u001b[39;00m query \u001b[38;5;241m!=\u001b[39m\u001b[38;5;124m'\u001b[39m\u001b[38;5;124m'\u001b[39m:\n\u001b[0;32m---> 17\u001b[0m     result \u001b[38;5;241m=\u001b[39m \u001b[43mwikipedia\u001b[49m\u001b[38;5;241;43m.\u001b[39;49m\u001b[43msummary\u001b[49m\u001b[43m(\u001b[49m\u001b[43mquery\u001b[49m\u001b[43m,\u001b[49m\u001b[43m \u001b[49m\u001b[43msentences\u001b[49m\u001b[38;5;241;43m=\u001b[39;49m\u001b[38;5;241;43m3\u001b[39;49m\u001b[43m)\u001b[49m\n\u001b[1;32m     18\u001b[0m     speak(\u001b[38;5;124m\"\u001b[39m\u001b[38;5;124mAccording to wikipedia\u001b[39m\u001b[38;5;124m\"\u001b[39m)\n\u001b[1;32m     19\u001b[0m     \u001b[38;5;28mprint\u001b[39m(result)\n",
      "File \u001b[0;32m~/pythonvenv/env-dio/lib/python3.11/site-packages/wikipedia/util.py:28\u001b[0m, in \u001b[0;36mcache.__call__\u001b[0;34m(self, *args, **kwargs)\u001b[0m\n\u001b[1;32m     26\u001b[0m   ret \u001b[38;5;241m=\u001b[39m \u001b[38;5;28mself\u001b[39m\u001b[38;5;241m.\u001b[39m_cache[key]\n\u001b[1;32m     27\u001b[0m \u001b[38;5;28;01melse\u001b[39;00m:\n\u001b[0;32m---> 28\u001b[0m   ret \u001b[38;5;241m=\u001b[39m \u001b[38;5;28mself\u001b[39m\u001b[38;5;241m.\u001b[39m_cache[key] \u001b[38;5;241m=\u001b[39m \u001b[38;5;28;43mself\u001b[39;49m\u001b[38;5;241;43m.\u001b[39;49m\u001b[43mfn\u001b[49m\u001b[43m(\u001b[49m\u001b[38;5;241;43m*\u001b[39;49m\u001b[43margs\u001b[49m\u001b[43m,\u001b[49m\u001b[43m \u001b[49m\u001b[38;5;241;43m*\u001b[39;49m\u001b[38;5;241;43m*\u001b[39;49m\u001b[43mkwargs\u001b[49m\u001b[43m)\u001b[49m\n\u001b[1;32m     30\u001b[0m \u001b[38;5;28;01mreturn\u001b[39;00m ret\n",
      "File \u001b[0;32m~/pythonvenv/env-dio/lib/python3.11/site-packages/wikipedia/wikipedia.py:231\u001b[0m, in \u001b[0;36msummary\u001b[0;34m(title, sentences, chars, auto_suggest, redirect)\u001b[0m\n\u001b[1;32m    216\u001b[0m \u001b[38;5;250m\u001b[39m\u001b[38;5;124;03m'''\u001b[39;00m\n\u001b[1;32m    217\u001b[0m \u001b[38;5;124;03mPlain text summary of the page.\u001b[39;00m\n\u001b[1;32m    218\u001b[0m \n\u001b[0;32m   (...)\u001b[0m\n\u001b[1;32m    226\u001b[0m \u001b[38;5;124;03m* redirect - allow redirection without raising RedirectError\u001b[39;00m\n\u001b[1;32m    227\u001b[0m \u001b[38;5;124;03m'''\u001b[39;00m\n\u001b[1;32m    229\u001b[0m \u001b[38;5;66;03m# use auto_suggest and redirect to get the correct article\u001b[39;00m\n\u001b[1;32m    230\u001b[0m \u001b[38;5;66;03m# also, use page's error checking to raise DisambiguationError if necessary\u001b[39;00m\n\u001b[0;32m--> 231\u001b[0m page_info \u001b[38;5;241m=\u001b[39m \u001b[43mpage\u001b[49m\u001b[43m(\u001b[49m\u001b[43mtitle\u001b[49m\u001b[43m,\u001b[49m\u001b[43m \u001b[49m\u001b[43mauto_suggest\u001b[49m\u001b[38;5;241;43m=\u001b[39;49m\u001b[43mauto_suggest\u001b[49m\u001b[43m,\u001b[49m\u001b[43m \u001b[49m\u001b[43mredirect\u001b[49m\u001b[38;5;241;43m=\u001b[39;49m\u001b[43mredirect\u001b[49m\u001b[43m)\u001b[49m\n\u001b[1;32m    232\u001b[0m title \u001b[38;5;241m=\u001b[39m page_info\u001b[38;5;241m.\u001b[39mtitle\n\u001b[1;32m    233\u001b[0m pageid \u001b[38;5;241m=\u001b[39m page_info\u001b[38;5;241m.\u001b[39mpageid\n",
      "File \u001b[0;32m~/pythonvenv/env-dio/lib/python3.11/site-packages/wikipedia/wikipedia.py:276\u001b[0m, in \u001b[0;36mpage\u001b[0;34m(title, pageid, auto_suggest, redirect, preload)\u001b[0m\n\u001b[1;32m    273\u001b[0m     \u001b[38;5;28;01mexcept\u001b[39;00m \u001b[38;5;167;01mIndexError\u001b[39;00m:\n\u001b[1;32m    274\u001b[0m       \u001b[38;5;66;03m# if there is no suggestion or search results, the page doesn't exist\u001b[39;00m\n\u001b[1;32m    275\u001b[0m       \u001b[38;5;28;01mraise\u001b[39;00m PageError(title)\n\u001b[0;32m--> 276\u001b[0m   \u001b[38;5;28;01mreturn\u001b[39;00m \u001b[43mWikipediaPage\u001b[49m\u001b[43m(\u001b[49m\u001b[43mtitle\u001b[49m\u001b[43m,\u001b[49m\u001b[43m \u001b[49m\u001b[43mredirect\u001b[49m\u001b[38;5;241;43m=\u001b[39;49m\u001b[43mredirect\u001b[49m\u001b[43m,\u001b[49m\u001b[43m \u001b[49m\u001b[43mpreload\u001b[49m\u001b[38;5;241;43m=\u001b[39;49m\u001b[43mpreload\u001b[49m\u001b[43m)\u001b[49m\n\u001b[1;32m    277\u001b[0m \u001b[38;5;28;01melif\u001b[39;00m pageid \u001b[38;5;129;01mis\u001b[39;00m \u001b[38;5;129;01mnot\u001b[39;00m \u001b[38;5;28;01mNone\u001b[39;00m:\n\u001b[1;32m    278\u001b[0m   \u001b[38;5;28;01mreturn\u001b[39;00m WikipediaPage(pageid\u001b[38;5;241m=\u001b[39mpageid, preload\u001b[38;5;241m=\u001b[39mpreload)\n",
      "File \u001b[0;32m~/pythonvenv/env-dio/lib/python3.11/site-packages/wikipedia/wikipedia.py:299\u001b[0m, in \u001b[0;36mWikipediaPage.__init__\u001b[0;34m(self, title, pageid, redirect, preload, original_title)\u001b[0m\n\u001b[1;32m    296\u001b[0m \u001b[38;5;28;01melse\u001b[39;00m:\n\u001b[1;32m    297\u001b[0m   \u001b[38;5;28;01mraise\u001b[39;00m \u001b[38;5;167;01mValueError\u001b[39;00m(\u001b[38;5;124m\"\u001b[39m\u001b[38;5;124mEither a title or a pageid must be specified\u001b[39m\u001b[38;5;124m\"\u001b[39m)\n\u001b[0;32m--> 299\u001b[0m \u001b[38;5;28;43mself\u001b[39;49m\u001b[38;5;241;43m.\u001b[39;49m\u001b[43m__load\u001b[49m\u001b[43m(\u001b[49m\u001b[43mredirect\u001b[49m\u001b[38;5;241;43m=\u001b[39;49m\u001b[43mredirect\u001b[49m\u001b[43m,\u001b[49m\u001b[43m \u001b[49m\u001b[43mpreload\u001b[49m\u001b[38;5;241;43m=\u001b[39;49m\u001b[43mpreload\u001b[49m\u001b[43m)\u001b[49m\n\u001b[1;32m    301\u001b[0m \u001b[38;5;28;01mif\u001b[39;00m preload:\n\u001b[1;32m    302\u001b[0m   \u001b[38;5;28;01mfor\u001b[39;00m prop \u001b[38;5;129;01min\u001b[39;00m (\u001b[38;5;124m'\u001b[39m\u001b[38;5;124mcontent\u001b[39m\u001b[38;5;124m'\u001b[39m, \u001b[38;5;124m'\u001b[39m\u001b[38;5;124msummary\u001b[39m\u001b[38;5;124m'\u001b[39m, \u001b[38;5;124m'\u001b[39m\u001b[38;5;124mimages\u001b[39m\u001b[38;5;124m'\u001b[39m, \u001b[38;5;124m'\u001b[39m\u001b[38;5;124mreferences\u001b[39m\u001b[38;5;124m'\u001b[39m, \u001b[38;5;124m'\u001b[39m\u001b[38;5;124mlinks\u001b[39m\u001b[38;5;124m'\u001b[39m, \u001b[38;5;124m'\u001b[39m\u001b[38;5;124msections\u001b[39m\u001b[38;5;124m'\u001b[39m):\n",
      "File \u001b[0;32m~/pythonvenv/env-dio/lib/python3.11/site-packages/wikipedia/wikipedia.py:345\u001b[0m, in \u001b[0;36mWikipediaPage.__load\u001b[0;34m(self, redirect, preload)\u001b[0m\n\u001b[1;32m    343\u001b[0m \u001b[38;5;28;01mif\u001b[39;00m \u001b[38;5;124m'\u001b[39m\u001b[38;5;124mmissing\u001b[39m\u001b[38;5;124m'\u001b[39m \u001b[38;5;129;01min\u001b[39;00m page:\n\u001b[1;32m    344\u001b[0m   \u001b[38;5;28;01mif\u001b[39;00m \u001b[38;5;28mhasattr\u001b[39m(\u001b[38;5;28mself\u001b[39m, \u001b[38;5;124m'\u001b[39m\u001b[38;5;124mtitle\u001b[39m\u001b[38;5;124m'\u001b[39m):\n\u001b[0;32m--> 345\u001b[0m     \u001b[38;5;28;01mraise\u001b[39;00m PageError(\u001b[38;5;28mself\u001b[39m\u001b[38;5;241m.\u001b[39mtitle)\n\u001b[1;32m    346\u001b[0m   \u001b[38;5;28;01melse\u001b[39;00m:\n\u001b[1;32m    347\u001b[0m     \u001b[38;5;28;01mraise\u001b[39;00m PageError(pageid\u001b[38;5;241m=\u001b[39m\u001b[38;5;28mself\u001b[39m\u001b[38;5;241m.\u001b[39mpageid)\n",
      "\u001b[0;31mPageError\u001b[0m: Page id \"will with\" does not match any pages. Try another id!"
     ]
    }
   ],
   "source": [
    "#let's try it\n",
    "#text = get_audio()\n",
    "#speak(text)\n",
    "while True:\n",
    "    print(\"I am listening...\")\n",
    "    text = get_audio()\n",
    "    respond(text)"
   ]
  },
  {
   "cell_type": "code",
   "execution_count": null,
   "id": "dcd8b5fe-8553-47fb-9a18-fc7cd853405e",
   "metadata": {},
   "outputs": [],
   "source": []
  }
 ],
 "metadata": {
  "kernelspec": {
   "display_name": "env-dio",
   "language": "python",
   "name": "env-dio"
  },
  "language_info": {
   "codemirror_mode": {
    "name": "ipython",
    "version": 3
   },
   "file_extension": ".py",
   "mimetype": "text/x-python",
   "name": "python",
   "nbconvert_exporter": "python",
   "pygments_lexer": "ipython3",
   "version": "3.11.8"
  }
 },
 "nbformat": 4,
 "nbformat_minor": 5
}
